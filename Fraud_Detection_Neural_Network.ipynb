{
  "nbformat": 4,
  "nbformat_minor": 0,
  "metadata": {
    "colab": {
      "provenance": [],
      "authorship_tag": "ABX9TyNxQ+RWO60WQSI1kVkVrSNM",
      "include_colab_link": true
    },
    "kernelspec": {
      "name": "python3",
      "display_name": "Python 3"
    },
    "language_info": {
      "name": "python"
    }
  },
  "cells": [
    {
      "cell_type": "markdown",
      "metadata": {
        "id": "view-in-github",
        "colab_type": "text"
      },
      "source": [
        "<a href=\"https://colab.research.google.com/github/Maedeabm/Stroke-Prediction-Odyssey-From-Classic-Classifiers-to-Transformers/blob/main/Fraud_Detection_Neural_Network.ipynb\" target=\"_parent\"><img src=\"https://colab.research.google.com/assets/colab-badge.svg\" alt=\"Open In Colab\"/></a>"
      ]
    },
    {
      "cell_type": "markdown",
      "source": [
        "# Fraud detection model using a standard neural network approach"
      ],
      "metadata": {
        "id": "KfkURkemW3i4"
      }
    },
    {
      "cell_type": "markdown",
      "source": [
        "Step 1: Data Preprocessing"
      ],
      "metadata": {
        "id": "ytkuEsGbX-Pd"
      }
    },
    {
      "cell_type": "code",
      "source": [
        "# Required Libraries\n",
        "import pandas as pd\n",
        "from sklearn.model_selection import train_test_split\n",
        "from sklearn.preprocessing import StandardScaler\n",
        "from imblearn.over_sampling import SMOTE\n",
        "import torch\n",
        "import torch.nn as nn\n",
        "\n",
        "# Load data\n",
        "data = pd.read_csv('creditcard.csv')  # Assumes you've loaded the dataset\n",
        "\n",
        "# Split the data\n",
        "X = data.drop(columns=['Class'])\n",
        "y = data['Class']\n",
        "\n",
        "X_train, X_test, y_train, y_test = train_test_split(X, y, test_size=0.2, random_state=42)\n",
        "\n",
        "# Standardize the features\n",
        "scaler = StandardScaler()\n",
        "X_train = scaler.fit_transform(X_train)\n",
        "X_test = scaler.transform(X_test)\n",
        "\n",
        "# Balance classes using SMOTE\n",
        "smote = SMOTE(random_state=42)\n",
        "X_train_resampled, y_train_resampled = smote.fit_resample(X_train, y_train)\n",
        "\n",
        "# Convert to PyTorch tensors\n",
        "X_train_resampled = torch.tensor(X_train_resampled, dtype=torch.float32)\n",
        "y_train_resampled = torch.tensor(y_train_resampled.values, dtype=torch.float32).unsqueeze(1)\n",
        "X_test = torch.tensor(X_test, dtype=torch.float32)\n",
        "y_test = torch.tensor(y_test.values, dtype=torch.float32).unsqueeze(1)\n"
      ],
      "metadata": {
        "id": "X07Xi--oX9T_"
      },
      "execution_count": 34,
      "outputs": []
    },
    {
      "cell_type": "markdown",
      "source": [
        "2. Define the Neural Network:"
      ],
      "metadata": {
        "id": "YABh5uUAYqWS"
      }
    },
    {
      "cell_type": "code",
      "source": [
        "class FraudDetectionModel(nn.Module):\n",
        "    def __init__(self, input_dim):\n",
        "        super(FraudDetectionModel, self).__init__()\n",
        "        self.layer1 = nn.Linear(input_dim, 128)\n",
        "        self.layer2 = nn.Linear(128, 64)\n",
        "        self.layer3 = nn.Linear(64, 32)\n",
        "        self.layer4 = nn.Linear(32, 1)\n",
        "\n",
        "    def forward(self, x):\n",
        "        x = torch.relu(self.layer1(x))\n",
        "        x = torch.relu(self.layer2(x))\n",
        "        x = torch.relu(self.layer3(x))\n",
        "        return torch.sigmoid(self.layer4(x))\n",
        "\n",
        "model = FraudDetectionModel(input_dim=X_train_resampled.shape[1])\n"
      ],
      "metadata": {
        "id": "scVLsLgyX__a"
      },
      "execution_count": 35,
      "outputs": []
    },
    {
      "cell_type": "markdown",
      "source": [
        "3. Training the Model:"
      ],
      "metadata": {
        "id": "IB2XD1XcYu7K"
      }
    },
    {
      "cell_type": "code",
      "source": [
        "device = torch.device('cuda' if torch.cuda.is_available() else 'cpu')\n",
        "model.to(device)\n",
        "\n",
        "criterion = nn.BCELoss()\n",
        "optimizer = torch.optim.Adam(model.parameters(), lr=0.001)\n",
        "\n",
        "epochs = 15\n",
        "\n",
        "for epoch in range(epochs):\n",
        "    model.train()\n",
        "    optimizer.zero_grad()\n",
        "\n",
        "    outputs = model(X_train_resampled.clone().detach().to(device))\n",
        "    loss = criterion(outputs, y_train_resampled.clone().detach().to(device))\n",
        "\n",
        "    loss.backward()\n",
        "    optimizer.step()\n",
        "\n",
        "    print(f\"Epoch {epoch + 1}/{epochs}, Loss: {loss.item():.4f}\")\n"
      ],
      "metadata": {
        "colab": {
          "base_uri": "https://localhost:8080/"
        },
        "id": "zdK9AFOAYsqd",
        "outputId": "495f0ee3-00fe-4b4f-a2cd-3749839d175c"
      },
      "execution_count": 39,
      "outputs": [
        {
          "output_type": "stream",
          "name": "stdout",
          "text": [
            "Epoch 1/15, Loss: 0.6979\n",
            "Epoch 2/15, Loss: 0.6603\n",
            "Epoch 3/15, Loss: 0.6350\n",
            "Epoch 4/15, Loss: 0.6173\n",
            "Epoch 5/15, Loss: 0.6005\n",
            "Epoch 6/15, Loss: 0.5837\n",
            "Epoch 7/15, Loss: 0.5666\n",
            "Epoch 8/15, Loss: 0.5491\n",
            "Epoch 9/15, Loss: 0.5313\n",
            "Epoch 10/15, Loss: 0.5132\n",
            "Epoch 11/15, Loss: 0.4949\n",
            "Epoch 12/15, Loss: 0.4766\n",
            "Epoch 13/15, Loss: 0.4584\n",
            "Epoch 14/15, Loss: 0.4404\n",
            "Epoch 15/15, Loss: 0.4227\n"
          ]
        }
      ]
    },
    {
      "cell_type": "markdown",
      "source": [
        "4. Evaluating the Model:"
      ],
      "metadata": {
        "id": "f6xOWiINacgc"
      }
    },
    {
      "cell_type": "code",
      "source": [
        "from sklearn.metrics import accuracy_score, precision_score, recall_score, f1_score, roc_auc_score\n",
        "\n",
        "model.eval()\n",
        "with torch.no_grad():\n",
        "    y_pred = model(torch.tensor(X_test, dtype=torch.float32).to(device))\n",
        "    y_pred_class = (y_pred > 0.5).float().cpu()\n",
        "\n",
        "    accuracy = accuracy_score(y_test, y_pred_class)\n",
        "    precision = precision_score(y_test, y_pred_class)\n",
        "    recall = recall_score(y_test, y_pred_class)\n",
        "    f1 = f1_score(y_test, y_pred_class)\n",
        "    roc_auc = roc_auc_score(y_test, y_pred.cpu())\n",
        "\n",
        "print(f\"Accuracy: {accuracy:.4f}\")\n",
        "print(f\"Precision: {precision:.4f}\")\n",
        "print(f\"Recall: {recall:.4f}\")\n",
        "print(f\"F1 Score: {f1:.4f}\")\n",
        "print(f\"ROC AUC Score: {roc_auc:.4f}\")\n"
      ],
      "metadata": {
        "colab": {
          "base_uri": "https://localhost:8080/"
        },
        "id": "q0rZlk66YxIU",
        "outputId": "d1a8f5f2-373c-45d7-adf7-01fc61e94d5c"
      },
      "execution_count": 40,
      "outputs": [
        {
          "output_type": "stream",
          "name": "stderr",
          "text": [
            "<ipython-input-40-6c5bdad8e568>:5: UserWarning: To copy construct from a tensor, it is recommended to use sourceTensor.clone().detach() or sourceTensor.clone().detach().requires_grad_(True), rather than torch.tensor(sourceTensor).\n",
            "  y_pred = model(torch.tensor(X_test, dtype=torch.float32).to(device))\n"
          ]
        },
        {
          "output_type": "stream",
          "name": "stdout",
          "text": [
            "Accuracy: 0.9816\n",
            "Precision: 0.0775\n",
            "Recall: 0.8878\n",
            "F1 Score: 0.1426\n",
            "ROC AUC Score: 0.9338\n"
          ]
        }
      ]
    }
  ]
}